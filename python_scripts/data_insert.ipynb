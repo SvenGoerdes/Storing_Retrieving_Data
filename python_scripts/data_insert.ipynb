{
 "cells": [
  {
   "cell_type": "code",
   "execution_count": 83,
   "metadata": {},
   "outputs": [],
   "source": [
    "import pandas as pd \n",
    "import mysql.connector\n",
    "from mysql.connector import Error\n",
    "from datetime import date"
   ]
  },
  {
   "cell_type": "code",
   "execution_count": 84,
   "metadata": {},
   "outputs": [
    {
     "data": {
      "text/plain": [
       "'20241214'"
      ]
     },
     "execution_count": 84,
     "metadata": {},
     "output_type": "execute_result"
    }
   ],
   "source": [
    "today = date.today().strftime(\"%Y%m%d\")\n",
    "today"
   ]
  },
  {
   "cell_type": "code",
   "execution_count": 96,
   "metadata": {},
   "outputs": [],
   "source": [
    "import mysql.connector\n",
    "from mysql.connector import Error\n",
    "\n",
    "def run_mysql_script(script_path):\n",
    "    connection = None\n",
    "    try:\n",
    "        # Establish a connection to the local MySQL instance\n",
    "        connection = mysql.connector.connect(\n",
    "            host='localhost',\n",
    "            user='root',  # replace with your MySQL username\n",
    "            password='12345678'  # replace with your MySQL password\n",
    "        )\n",
    "\n",
    "        if connection.is_connected():\n",
    "            print(\"Successfully connected to MySQL server\")\n",
    "            \n",
    "            # Read the SQL script from the given file path\n",
    "            with open(script_path, 'r') as file:\n",
    "                sql_script = file.read()\n",
    "\n",
    "            # Get a cursor to execute the script\n",
    "            cursor = connection.cursor()\n",
    "            \n",
    "            # Split the script into individual statements and execute them\n",
    "            for statement in sql_script.split(';'):\n",
    "                if statement.strip():\n",
    "                    cursor.execute(statement)\n",
    "\n",
    "            # Commit the changes to the database\n",
    "            connection.commit()\n",
    "            print(\"Script executed successfully.\")\n",
    "\n",
    "    except Error as e:\n",
    "        print(f\"Error: '{e}'\")\n",
    "\n",
    "    finally:\n",
    "        if connection and connection.is_connected():\n",
    "            if 'cursor' in locals():\n",
    "                cursor.close()\n",
    "            connection.close()\n",
    "            print(\"MySQL connection is closed \\n\")\n",
    "\n",
    "\n",
    "def rum_mysql_string(sql_query):\n",
    "    connection = None\n",
    "    try:\n",
    "        # Establish a connection to the local MySQL instance\n",
    "        connection = mysql.connector.connect(\n",
    "            host='localhost',\n",
    "            user='root',  # replace with your MySQL username\n",
    "            password='12345678'  # replace with your MySQL password\n",
    "        )\n",
    "        if connection.is_connected():\n",
    "            print(\"Successfully connected to MySQL server\")\n",
    "                    # Get a cursor to execute the script\n",
    "            cursor = connection.cursor()\n",
    "\n",
    "            cursor.execute(sql_query)\n",
    "            result = cursor.fetchall()\n",
    "\n",
    "        connection.commit()\n",
    "        print(\"Script executed successfully.\")\n",
    "    except Error as e:\n",
    "        print(f\"Error: '{e}'\")\n",
    "\n",
    "    finally:\n",
    "        if connection and connection.is_connected():\n",
    "            if 'cursor' in locals():\n",
    "                cursor.close()\n",
    "            connection.close()\n",
    "            print(\"MySQL connection is closed \\n\")\n",
    "            print(' ')\n",
    "    return result\n"
   ]
  },
  {
   "cell_type": "code",
   "execution_count": null,
   "metadata": {},
   "outputs": [],
   "source": []
  }
 ],
 "metadata": {
  "kernelspec": {
   "display_name": "storingdata-7s_jHLiV-py3.12",
   "language": "python",
   "name": "python3"
  },
  "language_info": {
   "codemirror_mode": {
    "name": "ipython",
    "version": 3
   },
   "file_extension": ".py",
   "mimetype": "text/x-python",
   "name": "python",
   "nbconvert_exporter": "python",
   "pygments_lexer": "ipython3",
   "version": "3.12.4"
  }
 },
 "nbformat": 4,
 "nbformat_minor": 2
}
