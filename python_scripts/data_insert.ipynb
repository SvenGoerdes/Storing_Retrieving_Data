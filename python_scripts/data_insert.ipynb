{
 "cells": [
  {
   "cell_type": "code",
   "execution_count": 9,
   "metadata": {},
   "outputs": [],
   "source": [
    "import pandas as pd \n",
    "import mysql.connector\n",
    "from mysql.connector import Error"
   ]
  },
  {
   "cell_type": "code",
   "execution_count": 10,
   "metadata": {},
   "outputs": [],
   "source": [
    "import mysql.connector\n",
    "from mysql.connector import Error\n",
    "\n",
    "def run_mysql_script(script_path):\n",
    "    connection = None\n",
    "    try:\n",
    "        # Establish a connection to the local MySQL instance\n",
    "        connection = mysql.connector.connect(\n",
    "            host='localhost',\n",
    "            user='root',  # replace with your MySQL username\n",
    "            password='12345678'  # replace with your MySQL password\n",
    "        )\n",
    "\n",
    "        if connection.is_connected():\n",
    "            print(\"Successfully connected to MySQL server\")\n",
    "            \n",
    "            # Read the SQL script from the given file path\n",
    "            with open(script_path, 'r') as file:\n",
    "                sql_script = file.read()\n",
    "\n",
    "            # Get a cursor to execute the script\n",
    "            cursor = connection.cursor()\n",
    "            \n",
    "            # Split the script into individual statements and execute them\n",
    "            for statement in sql_script.split(';'):\n",
    "                if statement.strip():\n",
    "                    cursor.execute(statement)\n",
    "\n",
    "            # Commit the changes to the database\n",
    "            connection.commit()\n",
    "            print(\"Script executed successfully.\")\n",
    "\n",
    "    except Error as e:\n",
    "        print(f\"Error: '{e}'\")\n",
    "\n",
    "    finally:\n",
    "        if connection and connection.is_connected():\n",
    "            if 'cursor' in locals():\n",
    "                cursor.close()\n",
    "            connection.close()\n",
    "            print(\"MySQL connection is closed\")\n",
    "\n"
   ]
  },
  {
   "cell_type": "code",
   "execution_count": 11,
   "metadata": {},
   "outputs": [
    {
     "name": "stdout",
     "output_type": "stream",
     "text": [
      "Successfully connected to MySQL server\n",
      "Script executed successfully.\n",
      "MySQL connection is closed\n",
      "Successfully connected to MySQL server\n",
      "Script executed successfully.\n",
      "MySQL connection is closed\n"
     ]
    }
   ],
   "source": [
    "# Provide the path to your SQL script file\n",
    "schema_script = '../sql_scripts/schema.sql'\n",
    "run_mysql_script(schema_script)\n",
    "\n",
    "data_insertion_script = '../sql_scripts/data_insertion_script.sql'\n",
    "\n",
    "run_mysql_script(data_insertion_script)\n"
   ]
  },
  {
   "cell_type": "code",
   "execution_count": null,
   "metadata": {},
   "outputs": [],
   "source": []
  }
 ],
 "metadata": {
  "kernelspec": {
   "display_name": "storingdata-7s_jHLiV-py3.12",
   "language": "python",
   "name": "python3"
  },
  "language_info": {
   "codemirror_mode": {
    "name": "ipython",
    "version": 3
   },
   "file_extension": ".py",
   "mimetype": "text/x-python",
   "name": "python",
   "nbconvert_exporter": "python",
   "pygments_lexer": "ipython3",
   "version": "3.12.4"
  }
 },
 "nbformat": 4,
 "nbformat_minor": 2
}
